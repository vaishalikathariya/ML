{
  "nbformat": 4,
  "nbformat_minor": 0,
  "metadata": {
    "colab": {
      "provenance": [],
      "authorship_tag": "ABX9TyO0JWII8miFkpU8jKh43TXx",
      "include_colab_link": true
    },
    "kernelspec": {
      "name": "python3",
      "display_name": "Python 3"
    },
    "language_info": {
      "name": "python"
    }
  },
  "cells": [
    {
      "cell_type": "markdown",
      "metadata": {
        "id": "view-in-github",
        "colab_type": "text"
      },
      "source": [
        "<a href=\"https://colab.research.google.com/github/SwatiAF/ML-LAB/blob/main/LAB1/find_s.ipynb\" target=\"_parent\"><img src=\"https://colab.research.google.com/assets/colab-badge.svg\" alt=\"Open In Colab\"/></a>"
      ]
    },
    {
      "cell_type": "code",
      "source": [
        "\n",
        "\n",
        "import numpy as np\n",
        "import pandas as pd\n",
        "\n",
        "data = pd.read_csv(r\"datatset1.csv\")\n",
        "print(data,\"\\n\")\n",
        "\n",
        "d = np.array(data)[:,:-1]\n",
        "print(\"\\n The attributes are: \\n\",d)\n",
        "tc = np.array(data)[:,-1]\n",
        "print(\"\\n The target concept is: \",tc)\n",
        " \n",
        " \n",
        "def findS(c,t):\n",
        "    for i, ex in enumerate(t):\n",
        "        if ex == \"yes\":\n",
        "            more_specific_hypo = c[i].copy()\n",
        "            break\n",
        "             \n",
        "    for i, a in enumerate(c):\n",
        "        if t[i] == \"yes\":\n",
        "            for x in range(len(more_specific_hypo)):\n",
        "                if a[x] != more_specific_hypo[x]:\n",
        "                    more_specific_hypo[x] = '?'\n",
        "                else:\n",
        "                    pass\n",
        "                 \n",
        "    return more_specific_hypo\n",
        " \n",
        "print(\"\\n The final hypothesis is:\",findS(d,tc))\n",
        "\n"
      ],
      "metadata": {
        "colab": {
          "base_uri": "https://localhost:8080/"
        },
        "id": "uVSvqcm7gbye",
        "outputId": "fe9e819a-059d-4a51-8b3b-836b57e49a35"
      },
      "execution_count": 11,
      "outputs": [
        {
          "output_type": "stream",
          "name": "stdout",
          "text": [
            "        sky air temp humidity    wind water forecast enjoy sport\n",
            "0     sunny     warm   normal  strong  warm     same          no\n",
            "1     sunny     warm     high  strong  warm     same          no\n",
            "2     rainy     cold     high  strong  warm   change          no\n",
            "3     sunny     warm     high  strong  cool   change         yes\n",
            "4  overcast      hot   normal    weak  cool   change          no\n",
            "5     sunny     mild   normal    weak  cool     same          no\n",
            "6     rainy     mild     high    weak  cool     same          no\n",
            "7  overcast     mild     high  strong  warm     same         yes \n",
            "\n",
            "\n",
            " The attributes are: \n",
            " [['sunny' 'warm' 'normal' 'strong' 'warm' 'same']\n",
            " ['sunny' 'warm' 'high' 'strong' 'warm' 'same']\n",
            " ['rainy' 'cold' 'high' 'strong' 'warm' 'change']\n",
            " ['sunny' 'warm' 'high' 'strong' 'cool' 'change']\n",
            " ['overcast' 'hot' 'normal' 'weak' 'cool' 'change']\n",
            " ['sunny' 'mild' 'normal' 'weak' 'cool' 'same']\n",
            " ['rainy' 'mild' 'high' 'weak' 'cool' 'same']\n",
            " ['overcast' 'mild' 'high' 'strong' 'warm' 'same']]\n",
            "\n",
            " The target concept is:  ['no' 'no' 'no' 'yes' 'no' 'no' 'no' 'yes']\n",
            "\n",
            " The final hypothesis is: ['?' '?' 'high' 'strong' '?' '?']\n"
          ]
        }
      ]
    }
  ]
}
